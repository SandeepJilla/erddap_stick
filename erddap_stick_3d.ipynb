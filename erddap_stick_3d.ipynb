{
  "nbformat": 4,
  "nbformat_minor": 0,
  "metadata": {
    "colab": {
      "provenance": []
    },
    "kernelspec": {
      "name": "python3",
      "display_name": "Python 3"
    },
    "language_info": {
      "name": "python"
    }
  },
  "cells": [
    {
      "cell_type": "markdown",
      "source": [
        "# Install Dependencies"
      ],
      "metadata": {
        "id": "xUQO1Hx8G-3z"
      }
    },
    {
      "cell_type": "code",
      "execution_count": 25,
      "metadata": {
        "colab": {
          "base_uri": "https://localhost:8080/"
        },
        "id": "4CBa-SScGs0t",
        "outputId": "20eb26dc-5351-48f4-ef3a-7906ffab63e5"
      },
      "outputs": [
        {
          "output_type": "stream",
          "name": "stdout",
          "text": [
            "Requirement already satisfied: netCDF4 in /usr/local/lib/python3.10/dist-packages (1.6.5)\n",
            "Requirement already satisfied: plotly in /usr/local/lib/python3.10/dist-packages (5.15.0)\n",
            "Requirement already satisfied: cftime in /usr/local/lib/python3.10/dist-packages (from netCDF4) (1.6.3)\n",
            "Requirement already satisfied: certifi in /usr/local/lib/python3.10/dist-packages (from netCDF4) (2024.2.2)\n",
            "Requirement already satisfied: numpy in /usr/local/lib/python3.10/dist-packages (from netCDF4) (1.25.2)\n",
            "Requirement already satisfied: tenacity>=6.2.0 in /usr/local/lib/python3.10/dist-packages (from plotly) (8.3.0)\n",
            "Requirement already satisfied: packaging in /usr/local/lib/python3.10/dist-packages (from plotly) (24.0)\n"
          ]
        }
      ],
      "source": [
        "!pip install netCDF4 plotly"
      ]
    },
    {
      "cell_type": "markdown",
      "source": [],
      "metadata": {
        "id": "qdeaqAIyIZ7R"
      }
    },
    {
      "cell_type": "markdown",
      "source": [
        "# Fetch data & plot 3d stick"
      ],
      "metadata": {
        "id": "H0IBDSuzIYKn"
      }
    },
    {
      "cell_type": "code",
      "source": [
        "import plotly.graph_objects as go\n",
        "import numpy as np\n",
        "import pandas as pd\n",
        "from netCDF4 import Dataset, num2date\n",
        "import requests\n",
        "import tempfile\n",
        "from matplotlib.colors import Normalize\n",
        "from matplotlib import colormaps\n",
        "\n",
        "def fetch_data(server_url, dataset_id, target_date, instrument=0):\n",
        "    url = f'{server_url}/tabledap/{dataset_id}.nc?time,depth,platform,sea_water_speed_{instrument},sea_water_direction_{instrument}&time>={target_date}'\n",
        "    response = requests.get(url)\n",
        "\n",
        "    if response.status_code != 200:\n",
        "        print(f\"Failed to fetch data. HTTP status code: {response.status_code}\")\n",
        "        return None\n",
        "\n",
        "    with tempfile.NamedTemporaryFile(delete=False) as tmp_file:\n",
        "        tmp_file.write(response.content)\n",
        "        tmp_file.seek(0)\n",
        "\n",
        "        try:\n",
        "            nc = Dataset(tmp_file.name)\n",
        "        except OSError as e:\n",
        "            print(f\"Failed to open NetCDF file: {e}\")\n",
        "            return None\n",
        "\n",
        "        time = nc.variables['time'][:]\n",
        "        time_units = nc.variables['time'].units\n",
        "        time_dates = num2date(time, units=time_units)\n",
        "        depth = nc.variables['depth'][:]\n",
        "        depth_units = nc.variables['depth'].units\n",
        "        sea_water_speed = nc.variables[f'sea_water_speed_{instrument}'][:]\n",
        "        speed_units = nc.variables[f'sea_water_speed_{instrument}'].units\n",
        "        sea_water_direction = nc.variables[f'sea_water_direction_{instrument}'][:]\n",
        "\n",
        "\n",
        "        df = pd.DataFrame({\n",
        "            'time': time_dates,\n",
        "            'depth': depth,\n",
        "            f'sea_water_speed_{instrument}': sea_water_speed,\n",
        "            f'sea_water_direction_{instrument}': sea_water_direction\n",
        "        })\n",
        "\n",
        "        return df, depth_units, speed_units\n",
        "\n",
        "def plot_3d_stick(df, date, instrument, depth_units, speed_units):\n",
        "    df = df[df['time'] == pd.to_datetime(date)]\n",
        "    if df.empty:\n",
        "        print(f\"No data available for the specified date: {date}\")\n",
        "        return\n",
        "\n",
        "    speeds = df[f'sea_water_speed_{instrument}']\n",
        "    directions = df[f'sea_water_direction_{instrument}']\n",
        "\n",
        "    # Convert directions to radians\n",
        "    directions_rad = np.radians(directions)\n",
        "\n",
        "    # Calculate u (eastward) and v (northward) components\n",
        "    u = speeds * np.sin(directions_rad)\n",
        "    v = speeds * np.cos(directions_rad)\n",
        "\n",
        "    # Normalize speeds for color mapping\n",
        "    norm = Normalize(vmin=speeds.min(), vmax=speeds.max())\n",
        "    cmap = colormaps.get_cmap('viridis')\n",
        "    colors = [cmap(norm(speed)) for speed in speeds]\n",
        "\n",
        "    fig = go.Figure()\n",
        "\n",
        "    for i in range(len(df)):\n",
        "        fig.add_trace(go.Scatter3d(\n",
        "            x=[7.5, u.iloc[i]],\n",
        "            y=[-2.5, v.iloc[i]],\n",
        "            z=[df['depth'].iloc[i], df['depth'].iloc[i]],  # Depth is fixed\n",
        "            mode='lines',\n",
        "            line=dict(color=f'rgba({colors[i][0]*255}, {colors[i][1]*255}, {colors[i][2]*255}, {colors[i][3]})', width=6),\n",
        "            showlegend=False,  # Disable individual legend entries\n",
        "            hovertemplate=(\n",
        "                f\"Date: {df['time'].iloc[i]}<br>\"\n",
        "                f\"Depth: {df['depth'].iloc[i]} {depth_units}<br>\"\n",
        "                f\"Speed: {speeds.iloc[i]} {speed_units}<br>\"\n",
        "            )\n",
        "        ))\n",
        "\n",
        "    fig.update_layout(\n",
        "        title=f'Sea Water Speed 3D Stick Plot for {dataset_id}',\n",
        "        scene=dict(\n",
        "            xaxis_title='u (Easting)',\n",
        "            yaxis_title='v (Northing)',\n",
        "            zaxis_title='Depth',\n",
        "            xaxis=dict(showgrid=False, range=[-max(speeds), max(speeds)]),\n",
        "            yaxis=dict(showgrid=False, range=[-max(speeds), max(speeds)]),\n",
        "            zaxis=dict(showgrid=False, range=[df['depth'].max(), df['depth'].min()])\n",
        "        ),\n",
        "        autosize=False,\n",
        "        width=800,\n",
        "        height=600\n",
        "    )\n",
        "\n",
        "    fig.show()\n"
      ],
      "metadata": {
        "id": "OMYGQezLHBjU"
      },
      "execution_count": 26,
      "outputs": []
    },
    {
      "cell_type": "markdown",
      "source": [
        "#Usage example with configurable parameters"
      ],
      "metadata": {
        "id": "iNFlC5QuJY10"
      }
    },
    {
      "cell_type": "code",
      "source": [
        "server_url = \"https://erddap.gcoos.org/erddap\"\n",
        "dataset_id = \"wmo_42881_2024\"\n",
        "target_date = \"2024-04-08T06:23:00Z\"\n",
        "instrument = 1\n",
        "\n",
        "data, depth_units, speed_units = fetch_data(server_url, dataset_id, target_date, instrument)\n",
        "if data is not None:\n",
        "    plot_3d_stick(data, target_date, instrument, depth_units, speed_units)"
      ],
      "metadata": {
        "colab": {
          "base_uri": "https://localhost:8080/",
          "height": 617
        },
        "id": "AiQtLjU7JOoY",
        "outputId": "53a4ec0a-d3c0-4ec5-e981-f0d0093a279d"
      },
      "execution_count": 27,
      "outputs": [
        {
          "output_type": "display_data",
          "data": {
            "text/html": [
              "<html>\n",
              "<head><meta charset=\"utf-8\" /></head>\n",
              "<body>\n",
              "    <div>            <script src=\"https://cdnjs.cloudflare.com/ajax/libs/mathjax/2.7.5/MathJax.js?config=TeX-AMS-MML_SVG\"></script><script type=\"text/javascript\">if (window.MathJax && window.MathJax.Hub && window.MathJax.Hub.Config) {window.MathJax.Hub.Config({SVG: {font: \"STIX-Web\"}});}</script>                <script type=\"text/javascript\">window.PlotlyConfig = {MathJaxConfig: 'local'};</script>\n",
              "        <script charset=\"utf-8\" src=\"https://cdn.plot.ly/plotly-2.24.1.min.js\"></script>                <div id=\"db5140c0-dfa8-4ab5-a285-0ef6d1da93b0\" class=\"plotly-graph-div\" style=\"height:600px; width:800px;\"></div>            <script type=\"text/javascript\">                                    window.PLOTLYENV=window.PLOTLYENV || {};                                    if (document.getElementById(\"db5140c0-dfa8-4ab5-a285-0ef6d1da93b0\")) {                    Plotly.newPlot(                        \"db5140c0-dfa8-4ab5-a285-0ef6d1da93b0\",                        [{\"hovertemplate\":\"Date: 2024-04-08 06:23:00\\u003cbr\\u003eDepth: 78.38 m\\u003cbr\\u003eSpeed: nan cm s-1\\u003cbr\\u003e\",\"line\":{\"color\":\"rgba(0.0, 0.0, 0.0, 0.0)\",\"width\":6},\"mode\":\"lines\",\"showlegend\":false,\"x\":[7.5,null],\"y\":[-2.5,null],\"z\":[78.38,78.38],\"type\":\"scatter3d\"},{\"hovertemplate\":\"Date: 2024-04-08 06:23:00\\u003cbr\\u003eDepth: 79.38 m\\u003cbr\\u003eSpeed: 4.56 cm s-1\\u003cbr\\u003e\",\"line\":{\"color\":\"rgba(64.75342500000001, 67.63977, 135.145665, 1.0)\",\"width\":6},\"mode\":\"lines\",\"showlegend\":false,\"x\":[7.5,3.5996896072850912],\"y\":[-2.5,2.799256103182362],\"z\":[79.38,79.38],\"type\":\"scatter3d\"},{\"hovertemplate\":\"Date: 2024-04-08 06:23:00\\u003cbr\\u003eDepth: 110.38 m\\u003cbr\\u003eSpeed: nan cm s-1\\u003cbr\\u003e\",\"line\":{\"color\":\"rgba(0.0, 0.0, 0.0, 0.0)\",\"width\":6},\"mode\":\"lines\",\"showlegend\":false,\"x\":[7.5,null],\"y\":[-2.5,null],\"z\":[110.38,110.38],\"type\":\"scatter3d\"},{\"hovertemplate\":\"Date: 2024-04-08 06:23:00\\u003cbr\\u003eDepth: 111.38 m\\u003cbr\\u003eSpeed: 14.18 cm s-1\\u003cbr\\u003e\",\"line\":{\"color\":\"rgba(129.099105, 211.34043, 76.59231, 1.0)\",\"width\":6},\"mode\":\"lines\",\"showlegend\":false,\"x\":[7.5,11.497988856203055],\"y\":[-2.5,8.298713892081734],\"z\":[111.38,111.38],\"type\":\"scatter3d\"},{\"hovertemplate\":\"Date: 2024-04-08 06:23:00\\u003cbr\\u003eDepth: 142.38 m\\u003cbr\\u003eSpeed: nan cm s-1\\u003cbr\\u003e\",\"line\":{\"color\":\"rgba(0.0, 0.0, 0.0, 0.0)\",\"width\":6},\"mode\":\"lines\",\"showlegend\":false,\"x\":[7.5,null],\"y\":[-2.5,null],\"z\":[142.38,142.38],\"type\":\"scatter3d\"},{\"hovertemplate\":\"Date: 2024-04-08 06:23:00\\u003cbr\\u003eDepth: 143.38 m\\u003cbr\\u003eSpeed: 12.25 cm s-1\\u003cbr\\u003e\",\"line\":{\"color\":\"rgba(62.74785, 188.42204999999998, 115.26612, 1.0)\",\"width\":6},\"mode\":\"lines\",\"showlegend\":false,\"x\":[7.5,10.896327695187079],\"y\":[-2.5,5.597547923787617],\"z\":[143.38,143.38],\"type\":\"scatter3d\"},{\"hovertemplate\":\"Date: 2024-04-08 06:23:00\\u003cbr\\u003eDepth: 174.38 m\\u003cbr\\u003eSpeed: nan cm s-1\\u003cbr\\u003e\",\"line\":{\"color\":\"rgba(0.0, 0.0, 0.0, 0.0)\",\"width\":6},\"mode\":\"lines\",\"showlegend\":false,\"x\":[7.5,null],\"y\":[-2.5,null],\"z\":[174.38,174.38],\"type\":\"scatter3d\"},{\"hovertemplate\":\"Date: 2024-04-08 06:23:00\\u003cbr\\u003eDepth: 175.38 m\\u003cbr\\u003eSpeed: 6.73 cm s-1\\u003cbr\\u003e\",\"line\":{\"color\":\"rgba(48.175365, 104.78205, 141.86312999999998, 1.0)\",\"width\":6},\"mode\":\"lines\",\"showlegend\":false,\"x\":[7.5,4.502376009404346],\"y\":[-2.5,5.002150564501252],\"z\":[175.38,175.38],\"type\":\"scatter3d\"},{\"hovertemplate\":\"Date: 2024-04-08 06:23:00\\u003cbr\\u003eDepth: 206.38 m\\u003cbr\\u003eSpeed: nan cm s-1\\u003cbr\\u003e\",\"line\":{\"color\":\"rgba(0.0, 0.0, 0.0, 0.0)\",\"width\":6},\"mode\":\"lines\",\"showlegend\":false,\"x\":[7.5,null],\"y\":[-2.5,null],\"z\":[206.38,206.38],\"type\":\"scatter3d\"},{\"hovertemplate\":\"Date: 2024-04-08 06:23:00\\u003cbr\\u003eDepth: 207.38 m\\u003cbr\\u003eSpeed: 4.08 cm s-1\\u003cbr\\u003e\",\"line\":{\"color\":\"rgba(67.97789999999999, 58.20681, 131.15899499999998, 1.0)\",\"width\":6},\"mode\":\"lines\",\"showlegend\":false,\"x\":[7.5,3.4987087572701014],\"y\":[-2.5,2.0989132978285463],\"z\":[207.38,207.38],\"type\":\"scatter3d\"},{\"hovertemplate\":\"Date: 2024-04-08 06:23:00\\u003cbr\\u003eDepth: 238.38 m\\u003cbr\\u003eSpeed: nan cm s-1\\u003cbr\\u003e\",\"line\":{\"color\":\"rgba(0.0, 0.0, 0.0, 0.0)\",\"width\":6},\"mode\":\"lines\",\"showlegend\":false,\"x\":[7.5,null],\"y\":[-2.5,null],\"z\":[238.38,238.38],\"type\":\"scatter3d\"},{\"hovertemplate\":\"Date: 2024-04-08 06:23:00\\u003cbr\\u003eDepth: 239.38 m\\u003cbr\\u003eSpeed: 1.43 cm s-1\\u003cbr\\u003e\",\"line\":{\"color\":\"rgba(68.08602, 1.24287, 84.000825, 1.0)\",\"width\":6},\"mode\":\"lines\",\"showlegend\":false,\"x\":[7.5,-0.2995105032111943],\"y\":[-2.5,-1.3982823243058524],\"z\":[239.38,239.38],\"type\":\"scatter3d\"},{\"hovertemplate\":\"Date: 2024-04-08 06:23:00\\u003cbr\\u003eDepth: 270.38 m\\u003cbr\\u003eSpeed: nan cm s-1\\u003cbr\\u003e\",\"line\":{\"color\":\"rgba(0.0, 0.0, 0.0, 0.0)\",\"width\":6},\"mode\":\"lines\",\"showlegend\":false,\"x\":[7.5,null],\"y\":[-2.5,null],\"z\":[270.38,270.38],\"type\":\"scatter3d\"},{\"hovertemplate\":\"Date: 2024-04-08 06:23:00\\u003cbr\\u003eDepth: 271.38 m\\u003cbr\\u003eSpeed: 3.1 cm s-1\\u003cbr\\u003e\",\"line\":{\"color\":\"rgba(71.881185, 38.474655, 118.678275, 1.0)\",\"width\":6},\"mode\":\"lines\",\"showlegend\":false,\"x\":[7.5,null],\"y\":[-2.5,null],\"z\":[271.38,271.38],\"type\":\"scatter3d\"},{\"hovertemplate\":\"Date: 2024-04-08 06:23:00\\u003cbr\\u003eDepth: 302.38 m\\u003cbr\\u003eSpeed: nan cm s-1\\u003cbr\\u003e\",\"line\":{\"color\":\"rgba(0.0, 0.0, 0.0, 0.0)\",\"width\":6},\"mode\":\"lines\",\"showlegend\":false,\"x\":[7.5,null],\"y\":[-2.5,null],\"z\":[302.38,302.38],\"type\":\"scatter3d\"},{\"hovertemplate\":\"Date: 2024-04-08 06:23:00\\u003cbr\\u003eDepth: 303.38 m\\u003cbr\\u003eSpeed: 4.13 cm s-1\\u003cbr\\u003e\",\"line\":{\"color\":\"rgba(67.97789999999999, 58.20681, 131.15899499999998, 1.0)\",\"width\":6},\"mode\":\"lines\",\"showlegend\":false,\"x\":[7.5,2.1977284136237936],\"y\":[-2.5,3.496696987150966],\"z\":[303.38,303.38],\"type\":\"scatter3d\"},{\"hovertemplate\":\"Date: 2024-04-08 06:23:00\\u003cbr\\u003eDepth: 334.38 m\\u003cbr\\u003eSpeed: nan cm s-1\\u003cbr\\u003e\",\"line\":{\"color\":\"rgba(0.0, 0.0, 0.0, 0.0)\",\"width\":6},\"mode\":\"lines\",\"showlegend\":false,\"x\":[7.5,null],\"y\":[-2.5,null],\"z\":[334.38,334.38],\"type\":\"scatter3d\"},{\"hovertemplate\":\"Date: 2024-04-08 06:23:00\\u003cbr\\u003eDepth: 335.38 m\\u003cbr\\u003eSpeed: 7.62 cm s-1\\u003cbr\\u003e\",\"line\":{\"color\":\"rgba(42.487334999999995, 118.24554, 142.320345, 1.0)\",\"width\":6},\"mode\":\"lines\",\"showlegend\":false,\"x\":[7.5,5.998905908976093],\"y\":[-2.5,4.698672993011082],\"z\":[335.38,335.38],\"type\":\"scatter3d\"},{\"hovertemplate\":\"Date: 2024-04-08 06:23:00\\u003cbr\\u003eDepth: 366.38 m\\u003cbr\\u003eSpeed: nan cm s-1\\u003cbr\\u003e\",\"line\":{\"color\":\"rgba(0.0, 0.0, 0.0, 0.0)\",\"width\":6},\"mode\":\"lines\",\"showlegend\":false,\"x\":[7.5,null],\"y\":[-2.5,null],\"z\":[366.38,366.38],\"type\":\"scatter3d\"},{\"hovertemplate\":\"Date: 2024-04-08 06:23:00\\u003cbr\\u003eDepth: 367.38 m\\u003cbr\\u003eSpeed: 5.5 cm s-1\\u003cbr\\u003e\",\"line\":{\"color\":\"rgba(57.595065000000005, 84.355275, 139.56507, 1.0)\",\"width\":6},\"mode\":\"lines\",\"showlegend\":false,\"x\":[7.5,5.197533044340628],\"y\":[-2.5,1.798791331140786],\"z\":[367.38,367.38],\"type\":\"scatter3d\"},{\"hovertemplate\":\"Date: 2024-04-08 06:23:00\\u003cbr\\u003eDepth: 398.38 m\\u003cbr\\u003eSpeed: nan cm s-1\\u003cbr\\u003e\",\"line\":{\"color\":\"rgba(0.0, 0.0, 0.0, 0.0)\",\"width\":6},\"mode\":\"lines\",\"showlegend\":false,\"x\":[7.5,null],\"y\":[-2.5,null],\"z\":[398.38,398.38],\"type\":\"scatter3d\"},{\"hovertemplate\":\"Date: 2024-04-08 06:23:00\\u003cbr\\u003eDepth: 399.38 m\\u003cbr\\u003eSpeed: 8.95 cm s-1\\u003cbr\\u003e\",\"line\":{\"color\":\"rgba(34.441829999999996, 138.93751500000002, 141.27739499999998, 1.0)\",\"width\":6},\"mode\":\"lines\",\"showlegend\":false,\"x\":[7.5,8.90465469436354],\"y\":[-2.5,0.8997915170467895],\"z\":[399.38,399.38],\"type\":\"scatter3d\"},{\"hovertemplate\":\"Date: 2024-04-08 06:23:00\\u003cbr\\u003eDepth: 430.38 m\\u003cbr\\u003eSpeed: nan cm s-1\\u003cbr\\u003e\",\"line\":{\"color\":\"rgba(0.0, 0.0, 0.0, 0.0)\",\"width\":6},\"mode\":\"lines\",\"showlegend\":false,\"x\":[7.5,null],\"y\":[-2.5,null],\"z\":[430.38,430.38],\"type\":\"scatter3d\"},{\"hovertemplate\":\"Date: 2024-04-08 06:23:00\\u003cbr\\u003eDepth: 431.38 m\\u003cbr\\u003eSpeed: 11.21 cm s-1\\u003cbr\\u003e\",\"line\":{\"color\":\"rgba(39.24297, 173.451765, 128.56385999999998, 1.0)\",\"width\":6},\"mode\":\"lines\",\"showlegend\":false,\"x\":[7.5,11.198812371630398],\"y\":[-2.5,0.5007009736538881],\"z\":[431.38,431.38],\"type\":\"scatter3d\"},{\"hovertemplate\":\"Date: 2024-04-08 06:23:00\\u003cbr\\u003eDepth: 462.38 m\\u003cbr\\u003eSpeed: nan cm s-1\\u003cbr\\u003e\",\"line\":{\"color\":\"rgba(0.0, 0.0, 0.0, 0.0)\",\"width\":6},\"mode\":\"lines\",\"showlegend\":false,\"x\":[7.5,null],\"y\":[-2.5,null],\"z\":[462.38,462.38],\"type\":\"scatter3d\"},{\"hovertemplate\":\"Date: 2024-04-08 06:23:00\\u003cbr\\u003eDepth: 463.38 m\\u003cbr\\u003eSpeed: 12.83 cm s-1\\u003cbr\\u003e\",\"line\":{\"color\":\"rgba(79.540875, 195.79461, 105.97443, 1.0)\",\"width\":6},\"mode\":\"lines\",\"showlegend\":false,\"x\":[7.5,12.702948329688697],\"y\":[-2.5,-1.8011118047636911],\"z\":[463.38,463.38],\"type\":\"scatter3d\"},{\"hovertemplate\":\"Date: 2024-04-08 06:23:00\\u003cbr\\u003eDepth: 494.38 m\\u003cbr\\u003eSpeed: nan cm s-1\\u003cbr\\u003e\",\"line\":{\"color\":\"rgba(0.0, 0.0, 0.0, 0.0)\",\"width\":6},\"mode\":\"lines\",\"showlegend\":false,\"x\":[7.5,null],\"y\":[-2.5,null],\"z\":[494.38,494.38],\"type\":\"scatter3d\"},{\"hovertemplate\":\"Date: 2024-04-08 06:23:00\\u003cbr\\u003eDepth: 495.38 m\\u003cbr\\u003eSpeed: 16.93 cm s-1\\u003cbr\\u003e\",\"line\":{\"color\":\"rgba(246.04797000000002, 230.092365, 31.604955, 1.0)\",\"width\":6},\"mode\":\"lines\",\"showlegend\":false,\"x\":[7.5,16.90037527033232],\"y\":[-2.5,-1.0011072479708423],\"z\":[495.38,495.38],\"type\":\"scatter3d\"},{\"hovertemplate\":\"Date: 2024-04-08 06:23:00\\u003cbr\\u003eDepth: 526.38 m\\u003cbr\\u003eSpeed: nan cm s-1\\u003cbr\\u003e\",\"line\":{\"color\":\"rgba(0.0, 0.0, 0.0, 0.0)\",\"width\":6},\"mode\":\"lines\",\"showlegend\":false,\"x\":[7.5,null],\"y\":[-2.5,null],\"z\":[526.38,526.38],\"type\":\"scatter3d\"},{\"hovertemplate\":\"Date: 2024-04-08 06:23:00\\u003cbr\\u003eDepth: 527.38 m\\u003cbr\\u003eSpeed: 13.32 cm s-1\\u003cbr\\u003e\",\"line\":{\"color\":\"rgba(96.33364499999999, 201.904155, 96.37444500000001, 1.0)\",\"width\":6},\"mode\":\"lines\",\"showlegend\":false,\"x\":[7.5,13.295999770955872],\"y\":[-2.5,-0.7992434489824679],\"z\":[527.38,527.38],\"type\":\"scatter3d\"},{\"hovertemplate\":\"Date: 2024-04-08 06:23:00\\u003cbr\\u003eDepth: 558.38 m\\u003cbr\\u003eSpeed: nan cm s-1\\u003cbr\\u003e\",\"line\":{\"color\":\"rgba(0.0, 0.0, 0.0, 0.0)\",\"width\":6},\"mode\":\"lines\",\"showlegend\":false,\"x\":[7.5,null],\"y\":[-2.5,null],\"z\":[558.38,558.38],\"type\":\"scatter3d\"},{\"hovertemplate\":\"Date: 2024-04-08 06:23:00\\u003cbr\\u003eDepth: 559.38 m\\u003cbr\\u003eSpeed: 8.15 cm s-1\\u003cbr\\u003e\",\"line\":{\"color\":\"rgba(39.10782, 126.735, 142.21962, 1.0)\",\"width\":6},\"mode\":\"lines\",\"showlegend\":false,\"x\":[7.5,7.900630545450966],\"y\":[-2.5,-2.000634145536657],\"z\":[559.38,559.38],\"type\":\"scatter3d\"},{\"hovertemplate\":\"Date: 2024-04-08 06:23:00\\u003cbr\\u003eDepth: 590.38 m\\u003cbr\\u003eSpeed: nan cm s-1\\u003cbr\\u003e\",\"line\":{\"color\":\"rgba(0.0, 0.0, 0.0, 0.0)\",\"width\":6},\"mode\":\"lines\",\"showlegend\":false,\"x\":[7.5,null],\"y\":[-2.5,null],\"z\":[590.38,590.38],\"type\":\"scatter3d\"},{\"hovertemplate\":\"Date: 2024-04-08 06:23:00\\u003cbr\\u003eDepth: 591.38 m\\u003cbr\\u003eSpeed: 5.68 cm s-1\\u003cbr\\u003e\",\"line\":{\"color\":\"rgba(56.114535000000004, 87.543285, 140.10031500000002, 1.0)\",\"width\":6},\"mode\":\"lines\",\"showlegend\":false,\"x\":[7.5,5.504498742525658],\"y\":[-2.5,1.4010330451254345],\"z\":[591.38,591.38],\"type\":\"scatter3d\"},{\"hovertemplate\":\"Date: 2024-04-08 06:23:00\\u003cbr\\u003eDepth: 622.38 m\\u003cbr\\u003eSpeed: nan cm s-1\\u003cbr\\u003e\",\"line\":{\"color\":\"rgba(0.0, 0.0, 0.0, 0.0)\",\"width\":6},\"mode\":\"lines\",\"showlegend\":false,\"x\":[7.5,null],\"y\":[-2.5,null],\"z\":[622.38,622.38],\"type\":\"scatter3d\"},{\"hovertemplate\":\"Date: 2024-04-08 06:23:00\\u003cbr\\u003eDepth: 623.38 m\\u003cbr\\u003eSpeed: 5.22 cm s-1\\u003cbr\\u003e\",\"line\":{\"color\":\"rgba(60.05913, 78.929385, 138.45072, 1.0)\",\"width\":6},\"mode\":\"lines\",\"showlegend\":false,\"x\":[7.5,5.102687858653116],\"y\":[-2.5,1.1004438273506152],\"z\":[623.38,623.38],\"type\":\"scatter3d\"},{\"hovertemplate\":\"Date: 2024-04-08 06:23:00\\u003cbr\\u003eDepth: 654.38 m\\u003cbr\\u003eSpeed: nan cm s-1\\u003cbr\\u003e\",\"line\":{\"color\":\"rgba(0.0, 0.0, 0.0, 0.0)\",\"width\":6},\"mode\":\"lines\",\"showlegend\":false,\"x\":[7.5,null],\"y\":[-2.5,null],\"z\":[654.38,654.38],\"type\":\"scatter3d\"},{\"hovertemplate\":\"Date: 2024-04-08 06:23:00\\u003cbr\\u003eDepth: 655.38 m\\u003cbr\\u003eSpeed: 9.42 cm s-1\\u003cbr\\u003e\",\"line\":{\"color\":\"rgba(31.97547, 146.45109, 140.01693, 1.0)\",\"width\":6},\"mode\":\"lines\",\"showlegend\":false,\"x\":[7.5,7.50032873489038],\"y\":[-2.5,5.699251606007378],\"z\":[655.38,655.38],\"type\":\"scatter3d\"},{\"hovertemplate\":\"Date: 2024-04-08 06:23:00\\u003cbr\\u003eDepth: 686.38 m\\u003cbr\\u003eSpeed: nan cm s-1\\u003cbr\\u003e\",\"line\":{\"color\":\"rgba(0.0, 0.0, 0.0, 0.0)\",\"width\":6},\"mode\":\"lines\",\"showlegend\":false,\"x\":[7.5,null],\"y\":[-2.5,null],\"z\":[686.38,686.38],\"type\":\"scatter3d\"},{\"hovertemplate\":\"Date: 2024-04-08 06:23:00\\u003cbr\\u003eDepth: 687.38 m\\u003cbr\\u003eSpeed: 9.45 cm s-1\\u003cbr\\u003e\",\"line\":{\"color\":\"rgba(31.97547, 146.45109, 140.01693, 1.0)\",\"width\":6},\"mode\":\"lines\",\"showlegend\":false,\"x\":[7.5,8.696190957607474],\"y\":[-2.5,3.698481151611564],\"z\":[687.38,687.38],\"type\":\"scatter3d\"},{\"hovertemplate\":\"Date: 2024-04-08 06:23:00\\u003cbr\\u003eDepth: 718.38 m\\u003cbr\\u003eSpeed: nan cm s-1\\u003cbr\\u003e\",\"line\":{\"color\":\"rgba(0.0, 0.0, 0.0, 0.0)\",\"width\":6},\"mode\":\"lines\",\"showlegend\":false,\"x\":[7.5,null],\"y\":[-2.5,null],\"z\":[718.38,718.38],\"type\":\"scatter3d\"},{\"hovertemplate\":\"Date: 2024-04-08 06:23:00\\u003cbr\\u003eDepth: 719.38 m\\u003cbr\\u003eSpeed: 9.62 cm s-1\\u003cbr\\u003e\",\"line\":{\"color\":\"rgba(31.26453, 149.26960499999998, 139.37203499999998, 1.0)\",\"width\":6},\"mode\":\"lines\",\"showlegend\":false,\"x\":[7.5,9.203081144134233],\"y\":[-2.5,2.8013742082201234],\"z\":[719.38,719.38],\"type\":\"scatter3d\"},{\"hovertemplate\":\"Date: 2024-04-08 06:23:00\\u003cbr\\u003eDepth: 750.38 m\\u003cbr\\u003eSpeed: nan cm s-1\\u003cbr\\u003e\",\"line\":{\"color\":\"rgba(0.0, 0.0, 0.0, 0.0)\",\"width\":6},\"mode\":\"lines\",\"showlegend\":false,\"x\":[7.5,null],\"y\":[-2.5,null],\"z\":[750.38,750.38],\"type\":\"scatter3d\"},{\"hovertemplate\":\"Date: 2024-04-08 06:23:00\\u003cbr\\u003eDepth: 751.38 m\\u003cbr\\u003eSpeed: 9.21 cm s-1\\u003cbr\\u003e\",\"line\":{\"color\":\"rgba(33.132915, 142.69341, 140.72532, 1.0)\",\"width\":6},\"mode\":\"lines\",\"showlegend\":false,\"x\":[7.5,9.102809511408077],\"y\":[-2.5,1.401056386809134],\"z\":[751.38,751.38],\"type\":\"scatter3d\"},{\"hovertemplate\":\"Date: 2024-04-08 06:23:00\\u003cbr\\u003eDepth: 782.38 m\\u003cbr\\u003eSpeed: nan cm s-1\\u003cbr\\u003e\",\"line\":{\"color\":\"rgba(0.0, 0.0, 0.0, 0.0)\",\"width\":6},\"mode\":\"lines\",\"showlegend\":false,\"x\":[7.5,null],\"y\":[-2.5,null],\"z\":[782.38,782.38],\"type\":\"scatter3d\"},{\"hovertemplate\":\"Date: 2024-04-08 06:23:00\\u003cbr\\u003eDepth: 783.38 m\\u003cbr\\u003eSpeed: 10.03 cm s-1\\u003cbr\\u003e\",\"line\":{\"color\":\"rgba(30.452865, 155.840955, 137.44040999999999, 1.0)\",\"width\":6},\"mode\":\"lines\",\"showlegend\":false,\"x\":[7.5,9.998111960782497],\"y\":[-2.5,0.7991603216238624],\"z\":[783.38,783.38],\"type\":\"scatter3d\"},{\"hovertemplate\":\"Date: 2024-04-08 06:23:00\\u003cbr\\u003eDepth: 814.38 m\\u003cbr\\u003eSpeed: nan cm s-1\\u003cbr\\u003e\",\"line\":{\"color\":\"rgba(0.0, 0.0, 0.0, 0.0)\",\"width\":6},\"mode\":\"lines\",\"showlegend\":false,\"x\":[7.5,null],\"y\":[-2.5,null],\"z\":[814.38,814.38],\"type\":\"scatter3d\"},{\"hovertemplate\":\"Date: 2024-04-08 06:23:00\\u003cbr\\u003eDepth: 815.38 m\\u003cbr\\u003eSpeed: 7.43 cm s-1\\u003cbr\\u003e\",\"line\":{\"color\":\"rgba(43.649879999999996, 115.39515, 142.28107500000002, 1.0)\",\"width\":6},\"mode\":\"lines\",\"showlegend\":false,\"x\":[7.5,7.0969508618129185],\"y\":[-2.5,2.199588248971354],\"z\":[815.38,815.38],\"type\":\"scatter3d\"},{\"hovertemplate\":\"Date: 2024-04-08 06:23:00\\u003cbr\\u003eDepth: 846.38 m\\u003cbr\\u003eSpeed: nan cm s-1\\u003cbr\\u003e\",\"line\":{\"color\":\"rgba(0.0, 0.0, 0.0, 0.0)\",\"width\":6},\"mode\":\"lines\",\"showlegend\":false,\"x\":[7.5,null],\"y\":[-2.5,null],\"z\":[846.38,846.38],\"type\":\"scatter3d\"},{\"hovertemplate\":\"Date: 2024-04-08 06:23:00\\u003cbr\\u003eDepth: 847.38 m\\u003cbr\\u003eSpeed: 2.91 cm s-1\\u003cbr\\u003e\",\"line\":{\"color\":\"rgba(72.13542000000001, 34.659600000000005, 115.623885, 1.0)\",\"width\":6},\"mode\":\"lines\",\"showlegend\":false,\"x\":[7.5,2.9030874242475306],\"y\":[-2.5,-0.2004579935443798],\"z\":[847.38,847.38],\"type\":\"scatter3d\"},{\"hovertemplate\":\"Date: 2024-04-08 06:23:00\\u003cbr\\u003eDepth: 878.38 m\\u003cbr\\u003eSpeed: nan cm s-1\\u003cbr\\u003e\",\"line\":{\"color\":\"rgba(0.0, 0.0, 0.0, 0.0)\",\"width\":6},\"mode\":\"lines\",\"showlegend\":false,\"x\":[7.5,null],\"y\":[-2.5,null],\"z\":[878.38,878.38],\"type\":\"scatter3d\"},{\"hovertemplate\":\"Date: 2024-04-08 06:23:00\\u003cbr\\u003eDepth: 879.38 m\\u003cbr\\u003eSpeed: 4.92 cm s-1\\u003cbr\\u003e\",\"line\":{\"color\":\"rgba(62.46786, 73.35712500000001, 137.0013, 1.0)\",\"width\":6},\"mode\":\"lines\",\"showlegend\":false,\"x\":[7.5,1.0992275834193435],\"y\":[-2.5,-4.795633297057862],\"z\":[879.38,879.38],\"type\":\"scatter3d\"},{\"hovertemplate\":\"Date: 2024-04-08 06:23:00\\u003cbr\\u003eDepth: 910.38 m\\u003cbr\\u003eSpeed: nan cm s-1\\u003cbr\\u003e\",\"line\":{\"color\":\"rgba(0.0, 0.0, 0.0, 0.0)\",\"width\":6},\"mode\":\"lines\",\"showlegend\":false,\"x\":[7.5,null],\"y\":[-2.5,null],\"z\":[910.38,910.38],\"type\":\"scatter3d\"},{\"hovertemplate\":\"Date: 2024-04-08 06:23:00\\u003cbr\\u003eDepth: 911.38 m\\u003cbr\\u003eSpeed: 3.82 cm s-1\\u003cbr\\u003e\",\"line\":{\"color\":\"rgba(69.61653000000001, 52.1526, 127.93885499999999, 1.0)\",\"width\":6},\"mode\":\"lines\",\"showlegend\":false,\"x\":[7.5,2.7992213975487332],\"y\":[-2.5,-2.599376765208406],\"z\":[911.38,911.38],\"type\":\"scatter3d\"},{\"hovertemplate\":\"Date: 2024-04-08 06:23:00\\u003cbr\\u003eDepth: 942.38 m\\u003cbr\\u003eSpeed: nan cm s-1\\u003cbr\\u003e\",\"line\":{\"color\":\"rgba(0.0, 0.0, 0.0, 0.0)\",\"width\":6},\"mode\":\"lines\",\"showlegend\":false,\"x\":[7.5,null],\"y\":[-2.5,null],\"z\":[942.38,942.38],\"type\":\"scatter3d\"},{\"hovertemplate\":\"Date: 2024-04-08 06:23:00\\u003cbr\\u003eDepth: 943.38 m\\u003cbr\\u003eSpeed: 5.9 cm s-1\\u003cbr\\u003e\",\"line\":{\"color\":\"rgba(54.64599, 90.682845, 140.55192, 1.0)\",\"width\":6},\"mode\":\"lines\",\"showlegend\":false,\"x\":[7.5,4.59744868138878],\"y\":[-2.5,-3.697764949533241],\"z\":[943.38,943.38],\"type\":\"scatter3d\"},{\"hovertemplate\":\"Date: 2024-04-08 06:23:00\\u003cbr\\u003eDepth: 974.38 m\\u003cbr\\u003eSpeed: nan cm s-1\\u003cbr\\u003e\",\"line\":{\"color\":\"rgba(0.0, 0.0, 0.0, 0.0)\",\"width\":6},\"mode\":\"lines\",\"showlegend\":false,\"x\":[7.5,null],\"y\":[-2.5,null],\"z\":[974.38,974.38],\"type\":\"scatter3d\"},{\"hovertemplate\":\"Date: 2024-04-08 06:23:00\\u003cbr\\u003eDepth: 975.38 m\\u003cbr\\u003eSpeed: 7.58 cm s-1\\u003cbr\\u003e\",\"line\":{\"color\":\"rgba(42.487334999999995, 118.24554, 142.320345, 1.0)\",\"width\":6},\"mode\":\"lines\",\"showlegend\":false,\"x\":[7.5,6.09952447389608],\"y\":[-2.5,-4.500244570280902],\"z\":[975.38,975.38],\"type\":\"scatter3d\"},{\"hovertemplate\":\"Date: 2024-04-08 06:23:00\\u003cbr\\u003eDepth: 1006.38 m\\u003cbr\\u003eSpeed: nan cm s-1\\u003cbr\\u003e\",\"line\":{\"color\":\"rgba(0.0, 0.0, 0.0, 0.0)\",\"width\":6},\"mode\":\"lines\",\"showlegend\":false,\"x\":[7.5,null],\"y\":[-2.5,null],\"z\":[1006.38,1006.38],\"type\":\"scatter3d\"},{\"hovertemplate\":\"Date: 2024-04-08 06:23:00\\u003cbr\\u003eDepth: 1007.38 m\\u003cbr\\u003eSpeed: 8.08 cm s-1\\u003cbr\\u003e\",\"line\":{\"color\":\"rgba(39.477825, 125.794815, 142.2492, 1.0)\",\"width\":6},\"mode\":\"lines\",\"showlegend\":false,\"x\":[7.5,6.098978506840215],\"y\":[-2.5,-5.2998925624111575],\"z\":[1007.38,1007.38],\"type\":\"scatter3d\"},{\"hovertemplate\":\"Date: 2024-04-08 06:23:00\\u003cbr\\u003eDepth: 1038.38 m\\u003cbr\\u003eSpeed: nan cm s-1\\u003cbr\\u003e\",\"line\":{\"color\":\"rgba(0.0, 0.0, 0.0, 0.0)\",\"width\":6},\"mode\":\"lines\",\"showlegend\":false,\"x\":[7.5,null],\"y\":[-2.5,null],\"z\":[1038.38,1038.38],\"type\":\"scatter3d\"},{\"hovertemplate\":\"Date: 2024-04-08 06:23:00\\u003cbr\\u003eDepth: 1039.38 m\\u003cbr\\u003eSpeed: 6.38 cm s-1\\u003cbr\\u003e\",\"line\":{\"color\":\"rgba(50.85465, 98.83978499999999, 141.43371, 1.0)\",\"width\":6},\"mode\":\"lines\",\"showlegend\":false,\"x\":[7.5,4.201600862458047],\"y\":[-2.5,-4.801140509565596],\"z\":[1039.38,1039.38],\"type\":\"scatter3d\"},{\"hovertemplate\":\"Date: 2024-04-08 06:23:00\\u003cbr\\u003eDepth: 1070.38 m\\u003cbr\\u003eSpeed: nan cm s-1\\u003cbr\\u003e\",\"line\":{\"color\":\"rgba(0.0, 0.0, 0.0, 0.0)\",\"width\":6},\"mode\":\"lines\",\"showlegend\":false,\"x\":[7.5,null],\"y\":[-2.5,null],\"z\":[1070.38,1070.38],\"type\":\"scatter3d\"},{\"hovertemplate\":\"Date: 2024-04-08 06:23:00\\u003cbr\\u003eDepth: 1071.38 m\\u003cbr\\u003eSpeed: 7.17 cm s-1\\u003cbr\\u003e\",\"line\":{\"color\":\"rgba(45.242865, 111.569385, 142.17907499999998, 1.0)\",\"width\":6},\"mode\":\"lines\",\"showlegend\":false,\"x\":[7.5,6.2006238097224395],\"y\":[-2.5,-3.600161714465502],\"z\":[1071.38,1071.38],\"type\":\"scatter3d\"},{\"hovertemplate\":\"Date: 2024-04-08 06:23:00\\u003cbr\\u003eDepth: 1102.38 m\\u003cbr\\u003eSpeed: nan cm s-1\\u003cbr\\u003e\",\"line\":{\"color\":\"rgba(0.0, 0.0, 0.0, 0.0)\",\"width\":6},\"mode\":\"lines\",\"showlegend\":false,\"x\":[7.5,null],\"y\":[-2.5,null],\"z\":[1102.38,1102.38],\"type\":\"scatter3d\"},{\"hovertemplate\":\"Date: 2024-04-08 06:23:00\\u003cbr\\u003eDepth: 1103.38 m\\u003cbr\\u003eSpeed: 10.21 cm s-1\\u003cbr\\u003e\",\"line\":{\"color\":\"rgba(30.620655, 158.65105499999999, 136.41123000000002, 1.0)\",\"width\":6},\"mode\":\"lines\",\"showlegend\":false,\"x\":[7.5,9.695869878833838],\"y\":[-2.5,-3.199094761447798],\"z\":[1103.38,1103.38],\"type\":\"scatter3d\"},{\"hovertemplate\":\"Date: 2024-04-08 06:23:00\\u003cbr\\u003eDepth: 1134.38 m\\u003cbr\\u003eSpeed: nan cm s-1\\u003cbr\\u003e\",\"line\":{\"color\":\"rgba(0.0, 0.0, 0.0, 0.0)\",\"width\":6},\"mode\":\"lines\",\"showlegend\":false,\"x\":[7.5,null],\"y\":[-2.5,null],\"z\":[1134.38,1134.38],\"type\":\"scatter3d\"},{\"hovertemplate\":\"Date: 2024-04-08 06:23:00\\u003cbr\\u003eDepth: 1135.38 m\\u003cbr\\u003eSpeed: 17.14 cm s-1\\u003cbr\\u003e\",\"line\":{\"color\":\"rgba(253.27824, 231.070035, 36.703680000000006, 1.0)\",\"width\":6},\"mode\":\"lines\",\"showlegend\":false,\"x\":[7.5,12.799368282285647],\"y\":[-2.5,-11.399814541229178],\"z\":[1135.38,1135.38],\"type\":\"scatter3d\"},{\"hovertemplate\":\"Date: 2024-04-08 06:23:00\\u003cbr\\u003eDepth: 1166.38 m\\u003cbr\\u003eSpeed: nan cm s-1\\u003cbr\\u003e\",\"line\":{\"color\":\"rgba(0.0, 0.0, 0.0, 0.0)\",\"width\":6},\"mode\":\"lines\",\"showlegend\":false,\"x\":[7.5,null],\"y\":[-2.5,null],\"z\":[1166.38,1166.38],\"type\":\"scatter3d\"},{\"hovertemplate\":\"Date: 2024-04-08 06:23:00\\u003cbr\\u003eDepth: 1167.38 m\\u003cbr\\u003eSpeed: 11.6 cm s-1\\u003cbr\\u003e\",\"line\":{\"color\":\"rgba(46.066515, 178.85751, 124.48819499999999, 1.0)\",\"width\":6},\"mode\":\"lines\",\"showlegend\":false,\"x\":[7.5,11.304511724324296],\"y\":[-2.5,-2.60154082701282],\"z\":[1167.38,1167.38],\"type\":\"scatter3d\"}],                        {\"template\":{\"data\":{\"histogram2dcontour\":[{\"type\":\"histogram2dcontour\",\"colorbar\":{\"outlinewidth\":0,\"ticks\":\"\"},\"colorscale\":[[0.0,\"#0d0887\"],[0.1111111111111111,\"#46039f\"],[0.2222222222222222,\"#7201a8\"],[0.3333333333333333,\"#9c179e\"],[0.4444444444444444,\"#bd3786\"],[0.5555555555555556,\"#d8576b\"],[0.6666666666666666,\"#ed7953\"],[0.7777777777777778,\"#fb9f3a\"],[0.8888888888888888,\"#fdca26\"],[1.0,\"#f0f921\"]]}],\"choropleth\":[{\"type\":\"choropleth\",\"colorbar\":{\"outlinewidth\":0,\"ticks\":\"\"}}],\"histogram2d\":[{\"type\":\"histogram2d\",\"colorbar\":{\"outlinewidth\":0,\"ticks\":\"\"},\"colorscale\":[[0.0,\"#0d0887\"],[0.1111111111111111,\"#46039f\"],[0.2222222222222222,\"#7201a8\"],[0.3333333333333333,\"#9c179e\"],[0.4444444444444444,\"#bd3786\"],[0.5555555555555556,\"#d8576b\"],[0.6666666666666666,\"#ed7953\"],[0.7777777777777778,\"#fb9f3a\"],[0.8888888888888888,\"#fdca26\"],[1.0,\"#f0f921\"]]}],\"heatmap\":[{\"type\":\"heatmap\",\"colorbar\":{\"outlinewidth\":0,\"ticks\":\"\"},\"colorscale\":[[0.0,\"#0d0887\"],[0.1111111111111111,\"#46039f\"],[0.2222222222222222,\"#7201a8\"],[0.3333333333333333,\"#9c179e\"],[0.4444444444444444,\"#bd3786\"],[0.5555555555555556,\"#d8576b\"],[0.6666666666666666,\"#ed7953\"],[0.7777777777777778,\"#fb9f3a\"],[0.8888888888888888,\"#fdca26\"],[1.0,\"#f0f921\"]]}],\"heatmapgl\":[{\"type\":\"heatmapgl\",\"colorbar\":{\"outlinewidth\":0,\"ticks\":\"\"},\"colorscale\":[[0.0,\"#0d0887\"],[0.1111111111111111,\"#46039f\"],[0.2222222222222222,\"#7201a8\"],[0.3333333333333333,\"#9c179e\"],[0.4444444444444444,\"#bd3786\"],[0.5555555555555556,\"#d8576b\"],[0.6666666666666666,\"#ed7953\"],[0.7777777777777778,\"#fb9f3a\"],[0.8888888888888888,\"#fdca26\"],[1.0,\"#f0f921\"]]}],\"contourcarpet\":[{\"type\":\"contourcarpet\",\"colorbar\":{\"outlinewidth\":0,\"ticks\":\"\"}}],\"contour\":[{\"type\":\"contour\",\"colorbar\":{\"outlinewidth\":0,\"ticks\":\"\"},\"colorscale\":[[0.0,\"#0d0887\"],[0.1111111111111111,\"#46039f\"],[0.2222222222222222,\"#7201a8\"],[0.3333333333333333,\"#9c179e\"],[0.4444444444444444,\"#bd3786\"],[0.5555555555555556,\"#d8576b\"],[0.6666666666666666,\"#ed7953\"],[0.7777777777777778,\"#fb9f3a\"],[0.8888888888888888,\"#fdca26\"],[1.0,\"#f0f921\"]]}],\"surface\":[{\"type\":\"surface\",\"colorbar\":{\"outlinewidth\":0,\"ticks\":\"\"},\"colorscale\":[[0.0,\"#0d0887\"],[0.1111111111111111,\"#46039f\"],[0.2222222222222222,\"#7201a8\"],[0.3333333333333333,\"#9c179e\"],[0.4444444444444444,\"#bd3786\"],[0.5555555555555556,\"#d8576b\"],[0.6666666666666666,\"#ed7953\"],[0.7777777777777778,\"#fb9f3a\"],[0.8888888888888888,\"#fdca26\"],[1.0,\"#f0f921\"]]}],\"mesh3d\":[{\"type\":\"mesh3d\",\"colorbar\":{\"outlinewidth\":0,\"ticks\":\"\"}}],\"scatter\":[{\"fillpattern\":{\"fillmode\":\"overlay\",\"size\":10,\"solidity\":0.2},\"type\":\"scatter\"}],\"parcoords\":[{\"type\":\"parcoords\",\"line\":{\"colorbar\":{\"outlinewidth\":0,\"ticks\":\"\"}}}],\"scatterpolargl\":[{\"type\":\"scatterpolargl\",\"marker\":{\"colorbar\":{\"outlinewidth\":0,\"ticks\":\"\"}}}],\"bar\":[{\"error_x\":{\"color\":\"#2a3f5f\"},\"error_y\":{\"color\":\"#2a3f5f\"},\"marker\":{\"line\":{\"color\":\"#E5ECF6\",\"width\":0.5},\"pattern\":{\"fillmode\":\"overlay\",\"size\":10,\"solidity\":0.2}},\"type\":\"bar\"}],\"scattergeo\":[{\"type\":\"scattergeo\",\"marker\":{\"colorbar\":{\"outlinewidth\":0,\"ticks\":\"\"}}}],\"scatterpolar\":[{\"type\":\"scatterpolar\",\"marker\":{\"colorbar\":{\"outlinewidth\":0,\"ticks\":\"\"}}}],\"histogram\":[{\"marker\":{\"pattern\":{\"fillmode\":\"overlay\",\"size\":10,\"solidity\":0.2}},\"type\":\"histogram\"}],\"scattergl\":[{\"type\":\"scattergl\",\"marker\":{\"colorbar\":{\"outlinewidth\":0,\"ticks\":\"\"}}}],\"scatter3d\":[{\"type\":\"scatter3d\",\"line\":{\"colorbar\":{\"outlinewidth\":0,\"ticks\":\"\"}},\"marker\":{\"colorbar\":{\"outlinewidth\":0,\"ticks\":\"\"}}}],\"scattermapbox\":[{\"type\":\"scattermapbox\",\"marker\":{\"colorbar\":{\"outlinewidth\":0,\"ticks\":\"\"}}}],\"scatterternary\":[{\"type\":\"scatterternary\",\"marker\":{\"colorbar\":{\"outlinewidth\":0,\"ticks\":\"\"}}}],\"scattercarpet\":[{\"type\":\"scattercarpet\",\"marker\":{\"colorbar\":{\"outlinewidth\":0,\"ticks\":\"\"}}}],\"carpet\":[{\"aaxis\":{\"endlinecolor\":\"#2a3f5f\",\"gridcolor\":\"white\",\"linecolor\":\"white\",\"minorgridcolor\":\"white\",\"startlinecolor\":\"#2a3f5f\"},\"baxis\":{\"endlinecolor\":\"#2a3f5f\",\"gridcolor\":\"white\",\"linecolor\":\"white\",\"minorgridcolor\":\"white\",\"startlinecolor\":\"#2a3f5f\"},\"type\":\"carpet\"}],\"table\":[{\"cells\":{\"fill\":{\"color\":\"#EBF0F8\"},\"line\":{\"color\":\"white\"}},\"header\":{\"fill\":{\"color\":\"#C8D4E3\"},\"line\":{\"color\":\"white\"}},\"type\":\"table\"}],\"barpolar\":[{\"marker\":{\"line\":{\"color\":\"#E5ECF6\",\"width\":0.5},\"pattern\":{\"fillmode\":\"overlay\",\"size\":10,\"solidity\":0.2}},\"type\":\"barpolar\"}],\"pie\":[{\"automargin\":true,\"type\":\"pie\"}]},\"layout\":{\"autotypenumbers\":\"strict\",\"colorway\":[\"#636efa\",\"#EF553B\",\"#00cc96\",\"#ab63fa\",\"#FFA15A\",\"#19d3f3\",\"#FF6692\",\"#B6E880\",\"#FF97FF\",\"#FECB52\"],\"font\":{\"color\":\"#2a3f5f\"},\"hovermode\":\"closest\",\"hoverlabel\":{\"align\":\"left\"},\"paper_bgcolor\":\"white\",\"plot_bgcolor\":\"#E5ECF6\",\"polar\":{\"bgcolor\":\"#E5ECF6\",\"angularaxis\":{\"gridcolor\":\"white\",\"linecolor\":\"white\",\"ticks\":\"\"},\"radialaxis\":{\"gridcolor\":\"white\",\"linecolor\":\"white\",\"ticks\":\"\"}},\"ternary\":{\"bgcolor\":\"#E5ECF6\",\"aaxis\":{\"gridcolor\":\"white\",\"linecolor\":\"white\",\"ticks\":\"\"},\"baxis\":{\"gridcolor\":\"white\",\"linecolor\":\"white\",\"ticks\":\"\"},\"caxis\":{\"gridcolor\":\"white\",\"linecolor\":\"white\",\"ticks\":\"\"}},\"coloraxis\":{\"colorbar\":{\"outlinewidth\":0,\"ticks\":\"\"}},\"colorscale\":{\"sequential\":[[0.0,\"#0d0887\"],[0.1111111111111111,\"#46039f\"],[0.2222222222222222,\"#7201a8\"],[0.3333333333333333,\"#9c179e\"],[0.4444444444444444,\"#bd3786\"],[0.5555555555555556,\"#d8576b\"],[0.6666666666666666,\"#ed7953\"],[0.7777777777777778,\"#fb9f3a\"],[0.8888888888888888,\"#fdca26\"],[1.0,\"#f0f921\"]],\"sequentialminus\":[[0.0,\"#0d0887\"],[0.1111111111111111,\"#46039f\"],[0.2222222222222222,\"#7201a8\"],[0.3333333333333333,\"#9c179e\"],[0.4444444444444444,\"#bd3786\"],[0.5555555555555556,\"#d8576b\"],[0.6666666666666666,\"#ed7953\"],[0.7777777777777778,\"#fb9f3a\"],[0.8888888888888888,\"#fdca26\"],[1.0,\"#f0f921\"]],\"diverging\":[[0,\"#8e0152\"],[0.1,\"#c51b7d\"],[0.2,\"#de77ae\"],[0.3,\"#f1b6da\"],[0.4,\"#fde0ef\"],[0.5,\"#f7f7f7\"],[0.6,\"#e6f5d0\"],[0.7,\"#b8e186\"],[0.8,\"#7fbc41\"],[0.9,\"#4d9221\"],[1,\"#276419\"]]},\"xaxis\":{\"gridcolor\":\"white\",\"linecolor\":\"white\",\"ticks\":\"\",\"title\":{\"standoff\":15},\"zerolinecolor\":\"white\",\"automargin\":true,\"zerolinewidth\":2},\"yaxis\":{\"gridcolor\":\"white\",\"linecolor\":\"white\",\"ticks\":\"\",\"title\":{\"standoff\":15},\"zerolinecolor\":\"white\",\"automargin\":true,\"zerolinewidth\":2},\"scene\":{\"xaxis\":{\"backgroundcolor\":\"#E5ECF6\",\"gridcolor\":\"white\",\"linecolor\":\"white\",\"showbackground\":true,\"ticks\":\"\",\"zerolinecolor\":\"white\",\"gridwidth\":2},\"yaxis\":{\"backgroundcolor\":\"#E5ECF6\",\"gridcolor\":\"white\",\"linecolor\":\"white\",\"showbackground\":true,\"ticks\":\"\",\"zerolinecolor\":\"white\",\"gridwidth\":2},\"zaxis\":{\"backgroundcolor\":\"#E5ECF6\",\"gridcolor\":\"white\",\"linecolor\":\"white\",\"showbackground\":true,\"ticks\":\"\",\"zerolinecolor\":\"white\",\"gridwidth\":2}},\"shapedefaults\":{\"line\":{\"color\":\"#2a3f5f\"}},\"annotationdefaults\":{\"arrowcolor\":\"#2a3f5f\",\"arrowhead\":0,\"arrowwidth\":1},\"geo\":{\"bgcolor\":\"white\",\"landcolor\":\"#E5ECF6\",\"subunitcolor\":\"white\",\"showland\":true,\"showlakes\":true,\"lakecolor\":\"white\"},\"title\":{\"x\":0.05},\"mapbox\":{\"style\":\"light\"}}},\"scene\":{\"xaxis\":{\"title\":{\"text\":\"u (Easting)\"},\"showgrid\":false,\"range\":[null,null]},\"yaxis\":{\"title\":{\"text\":\"v (Northing)\"},\"showgrid\":false,\"range\":[null,null]},\"zaxis\":{\"title\":{\"text\":\"Depth\"},\"showgrid\":false,\"range\":[1167.38,78.38]}},\"title\":{\"text\":\"Sea Water Speed 3D Stick Plot for wmo_42881_2024\"},\"autosize\":false,\"width\":800,\"height\":600},                        {\"responsive\": true}                    ).then(function(){\n",
              "                            \n",
              "var gd = document.getElementById('db5140c0-dfa8-4ab5-a285-0ef6d1da93b0');\n",
              "var x = new MutationObserver(function (mutations, observer) {{\n",
              "        var display = window.getComputedStyle(gd).display;\n",
              "        if (!display || display === 'none') {{\n",
              "            console.log([gd, 'removed!']);\n",
              "            Plotly.purge(gd);\n",
              "            observer.disconnect();\n",
              "        }}\n",
              "}});\n",
              "\n",
              "// Listen for the removal of the full notebook cells\n",
              "var notebookContainer = gd.closest('#notebook-container');\n",
              "if (notebookContainer) {{\n",
              "    x.observe(notebookContainer, {childList: true});\n",
              "}}\n",
              "\n",
              "// Listen for the clearing of the current output cell\n",
              "var outputEl = gd.closest('.output');\n",
              "if (outputEl) {{\n",
              "    x.observe(outputEl, {childList: true});\n",
              "}}\n",
              "\n",
              "                        })                };                            </script>        </div>\n",
              "</body>\n",
              "</html>"
            ]
          },
          "metadata": {}
        }
      ]
    },
    {
      "cell_type": "code",
      "source": [],
      "metadata": {
        "id": "rAjG04ThLPBS"
      },
      "execution_count": null,
      "outputs": []
    }
  ]
}